{
  "nbformat": 4,
  "nbformat_minor": 0,
  "metadata": {
    "colab": {
      "name": "complaints",
      "provenance": [],
      "collapsed_sections": [],
      "mount_file_id": "1s8ZiY2NfN2WEkoRFShBLY6ttvhq4bVc7",
      "authorship_tag": "ABX9TyN1QoyG15xQ8ZyRb/QC80bP",
      "include_colab_link": true
    },
    "kernelspec": {
      "name": "python3",
      "display_name": "Python 3"
    },
    "language_info": {
      "name": "python"
    },
    "accelerator": "GPU"
  },
  "cells": [
    {
      "cell_type": "markdown",
      "metadata": {
        "id": "view-in-github",
        "colab_type": "text"
      },
      "source": [
        "<a href=\"https://colab.research.google.com/github/khushbuchuahan3/Consumer_complaint/blob/main/complaints.ipynb\" target=\"_parent\"><img src=\"https://colab.research.google.com/assets/colab-badge.svg\" alt=\"Open In Colab\"/></a>"
      ]
    },
    {
      "cell_type": "markdown",
      "source": [
        "#**1.Import Libraies**"
      ],
      "metadata": {
        "id": "wtaiCKQugc01"
      }
    },
    {
      "cell_type": "code",
      "source": [
        "#Import Libraries\n",
        "import numpy as np\n",
        "import pandas as pd\n",
        "import seaborn as sns\n",
        "from sklearn import metrics\n",
        "import matplotlib.pyplot as plt\n",
        "from sklearn.svm import LinearSVC\n",
        "from sklearn.metrics import confusion_matrix\n",
        "from sklearn.metrics import classification_report\n",
        "from sklearn.naive_bayes import MultinomialNB\n",
        "from sklearn.model_selection import cross_val_score\n",
        "from sklearn.model_selection import train_test_split\n",
        "from sklearn.feature_extraction.text import CountVectorizer\n",
        "from sklearn.feature_extraction.text  import TfidfTransformer\n",
        "import warnings\n",
        "warnings.filterwarnings('ignore')"
      ],
      "metadata": {
        "id": "xlIIXi09brR0"
      },
      "execution_count": 1,
      "outputs": []
    },
    {
      "cell_type": "markdown",
      "source": [
        "#**2 import Datasets**"
      ],
      "metadata": {
        "id": "TXW7BuWwhDYS"
      }
    },
    {
      "cell_type": "code",
      "execution_count": 2,
      "metadata": {
        "id": "JH2zt8OKMmwX"
      },
      "outputs": [],
      "source": [
        "#import datasets\n",
        "data=pd.read_csv(\"/content/drive/MyDrive/complaints.csv\")"
      ]
    },
    {
      "cell_type": "markdown",
      "source": [
        "#**3.Data Undestanding**"
      ],
      "metadata": {
        "id": "emjCYJ9ZhUSi"
      }
    },
    {
      "cell_type": "code",
      "source": [
        "#Pick up nessasary columns\n",
        "data=data[['Product', 'Consumer complaint narrative']]"
      ],
      "metadata": {
        "id": "lQ81e_EpNGdH"
      },
      "execution_count": 3,
      "outputs": []
    },
    {
      "cell_type": "code",
      "source": [
        "#check whether any null value avilible \n",
        "data.isnull().sum()"
      ],
      "metadata": {
        "colab": {
          "base_uri": "https://localhost:8080/"
        },
        "id": "N8nIa7qSNRHw",
        "outputId": "716c245c-b75d-4b25-f8aa-7aec33a60daa"
      },
      "execution_count": 4,
      "outputs": [
        {
          "output_type": "execute_result",
          "data": {
            "text/plain": [
              "Product                               0\n",
              "Consumer complaint narrative    1653441\n",
              "dtype: int64"
            ]
          },
          "metadata": {},
          "execution_count": 4
        }
      ]
    },
    {
      "cell_type": "code",
      "source": [
        "#Drop null values\n",
        "data=data.dropna()"
      ],
      "metadata": {
        "id": "qeJP3f3nNVFd"
      },
      "execution_count": 5,
      "outputs": []
    },
    {
      "cell_type": "code",
      "source": [
        "#Number of rows and columns\n",
        "data.shape"
      ],
      "metadata": {
        "colab": {
          "base_uri": "https://localhost:8080/"
        },
        "id": "2xVtUsJkh40J",
        "outputId": "a44d4886-d6e2-4789-a1f6-f9a19b946b55"
      },
      "execution_count": 6,
      "outputs": [
        {
          "output_type": "execute_result",
          "data": {
            "text/plain": [
              "(888973, 2)"
            ]
          },
          "metadata": {},
          "execution_count": 6
        }
      ]
    },
    {
      "cell_type": "code",
      "source": [
        "#Data Type \n",
        "data.dtypes"
      ],
      "metadata": {
        "colab": {
          "base_uri": "https://localhost:8080/"
        },
        "id": "_IIAhy-Yh9gl",
        "outputId": "d2b1e6f8-8e7a-45f6-bafe-35d0c7b216af"
      },
      "execution_count": 7,
      "outputs": [
        {
          "output_type": "execute_result",
          "data": {
            "text/plain": [
              "Product                         object\n",
              "Consumer complaint narrative    object\n",
              "dtype: object"
            ]
          },
          "metadata": {},
          "execution_count": 7
        }
      ]
    },
    {
      "cell_type": "code",
      "source": [
        "#Rename column name to easy interpritation\n",
        "data.columns=['product','complaint']"
      ],
      "metadata": {
        "id": "byFZOmIoNhmO"
      },
      "execution_count": 8,
      "outputs": []
    },
    {
      "cell_type": "code",
      "source": [
        "#Encode the object as an enumerated type or categorical variable\n",
        "data['category_id'] = data['product'].factorize()[0]\n"
      ],
      "metadata": {
        "id": "Kt2TJzMbPyD_"
      },
      "execution_count": 9,
      "outputs": []
    },
    {
      "cell_type": "code",
      "source": [
        "#drop_duplicates() method helps in removing duplicates from the data frame\n",
        "#Returns a sorted Data Frame with Same dimensions as of the function caller Data Frame.\n",
        "complain_df=data[['product','category_id']].drop_duplicates().sort_values('category_id').reset_index(drop=True)\n",
        "category_id_df=dict(complain_df.values)\n",
        "category_id_df"
      ],
      "metadata": {
        "id": "jF3P7iddRl6Z",
        "colab": {
          "base_uri": "https://localhost:8080/"
        },
        "outputId": "67f103fb-2780-4f9d-f10a-c7bc1b8bcbb9"
      },
      "execution_count": 10,
      "outputs": [
        {
          "output_type": "execute_result",
          "data": {
            "text/plain": [
              "{'Bank account or service': 11,\n",
              " 'Checking or savings account': 0,\n",
              " 'Consumer Loan': 9,\n",
              " 'Credit card': 14,\n",
              " 'Credit card or prepaid card': 2,\n",
              " 'Credit reporting': 12,\n",
              " 'Credit reporting, credit repair services, or other personal consumer reports': 1,\n",
              " 'Debt collection': 4,\n",
              " 'Money transfer, virtual currency, or money service': 8,\n",
              " 'Money transfers': 16,\n",
              " 'Mortgage': 3,\n",
              " 'Other financial service': 15,\n",
              " 'Payday loan': 10,\n",
              " 'Payday loan, title loan, or personal loan': 7,\n",
              " 'Prepaid card': 13,\n",
              " 'Student loan': 6,\n",
              " 'Vehicle loan or lease': 5,\n",
              " 'Virtual currency': 17}"
            ]
          },
          "metadata": {},
          "execution_count": 10
        }
      ]
    },
    {
      "cell_type": "code",
      "source": [
        "#Top 5 rows of datasets.\n",
        "data=data.reset_index(drop=True)\n",
        "data.head()"
      ],
      "metadata": {
        "colab": {
          "base_uri": "https://localhost:8080/",
          "height": 206
        },
        "id": "p9XeA__-i1no",
        "outputId": "51425c18-45b7-47b4-b43c-683586cd5470"
      },
      "execution_count": 11,
      "outputs": [
        {
          "output_type": "execute_result",
          "data": {
            "text/plain": [
              "                                             product  \\\n",
              "0                        Checking or savings account   \n",
              "1  Credit reporting, credit repair services, or o...   \n",
              "2  Credit reporting, credit repair services, or o...   \n",
              "3  Credit reporting, credit repair services, or o...   \n",
              "4                        Credit card or prepaid card   \n",
              "\n",
              "                                           complaint  category_id  \n",
              "0  This Bank FNBO is terrible! Stay away from the...            0  \n",
              "1  First Progress Card was notified throughout th...            1  \n",
              "2  As by Law, under 15 U.S Code 1601- Congression...            1  \n",
              "3  This is a copy of my most recent email to XXXX...            1  \n",
              "4  This is in reference to case number XXXX. This...            2  "
            ],
            "text/html": [
              "\n",
              "  <div id=\"df-39507226-40db-4f47-88d5-a602f7b7dbee\">\n",
              "    <div class=\"colab-df-container\">\n",
              "      <div>\n",
              "<style scoped>\n",
              "    .dataframe tbody tr th:only-of-type {\n",
              "        vertical-align: middle;\n",
              "    }\n",
              "\n",
              "    .dataframe tbody tr th {\n",
              "        vertical-align: top;\n",
              "    }\n",
              "\n",
              "    .dataframe thead th {\n",
              "        text-align: right;\n",
              "    }\n",
              "</style>\n",
              "<table border=\"1\" class=\"dataframe\">\n",
              "  <thead>\n",
              "    <tr style=\"text-align: right;\">\n",
              "      <th></th>\n",
              "      <th>product</th>\n",
              "      <th>complaint</th>\n",
              "      <th>category_id</th>\n",
              "    </tr>\n",
              "  </thead>\n",
              "  <tbody>\n",
              "    <tr>\n",
              "      <th>0</th>\n",
              "      <td>Checking or savings account</td>\n",
              "      <td>This Bank FNBO is terrible! Stay away from the...</td>\n",
              "      <td>0</td>\n",
              "    </tr>\n",
              "    <tr>\n",
              "      <th>1</th>\n",
              "      <td>Credit reporting, credit repair services, or o...</td>\n",
              "      <td>First Progress Card was notified throughout th...</td>\n",
              "      <td>1</td>\n",
              "    </tr>\n",
              "    <tr>\n",
              "      <th>2</th>\n",
              "      <td>Credit reporting, credit repair services, or o...</td>\n",
              "      <td>As by Law, under 15 U.S Code 1601- Congression...</td>\n",
              "      <td>1</td>\n",
              "    </tr>\n",
              "    <tr>\n",
              "      <th>3</th>\n",
              "      <td>Credit reporting, credit repair services, or o...</td>\n",
              "      <td>This is a copy of my most recent email to XXXX...</td>\n",
              "      <td>1</td>\n",
              "    </tr>\n",
              "    <tr>\n",
              "      <th>4</th>\n",
              "      <td>Credit card or prepaid card</td>\n",
              "      <td>This is in reference to case number XXXX. This...</td>\n",
              "      <td>2</td>\n",
              "    </tr>\n",
              "  </tbody>\n",
              "</table>\n",
              "</div>\n",
              "      <button class=\"colab-df-convert\" onclick=\"convertToInteractive('df-39507226-40db-4f47-88d5-a602f7b7dbee')\"\n",
              "              title=\"Convert this dataframe to an interactive table.\"\n",
              "              style=\"display:none;\">\n",
              "        \n",
              "  <svg xmlns=\"http://www.w3.org/2000/svg\" height=\"24px\"viewBox=\"0 0 24 24\"\n",
              "       width=\"24px\">\n",
              "    <path d=\"M0 0h24v24H0V0z\" fill=\"none\"/>\n",
              "    <path d=\"M18.56 5.44l.94 2.06.94-2.06 2.06-.94-2.06-.94-.94-2.06-.94 2.06-2.06.94zm-11 1L8.5 8.5l.94-2.06 2.06-.94-2.06-.94L8.5 2.5l-.94 2.06-2.06.94zm10 10l.94 2.06.94-2.06 2.06-.94-2.06-.94-.94-2.06-.94 2.06-2.06.94z\"/><path d=\"M17.41 7.96l-1.37-1.37c-.4-.4-.92-.59-1.43-.59-.52 0-1.04.2-1.43.59L10.3 9.45l-7.72 7.72c-.78.78-.78 2.05 0 2.83L4 21.41c.39.39.9.59 1.41.59.51 0 1.02-.2 1.41-.59l7.78-7.78 2.81-2.81c.8-.78.8-2.07 0-2.86zM5.41 20L4 18.59l7.72-7.72 1.47 1.35L5.41 20z\"/>\n",
              "  </svg>\n",
              "      </button>\n",
              "      \n",
              "  <style>\n",
              "    .colab-df-container {\n",
              "      display:flex;\n",
              "      flex-wrap:wrap;\n",
              "      gap: 12px;\n",
              "    }\n",
              "\n",
              "    .colab-df-convert {\n",
              "      background-color: #E8F0FE;\n",
              "      border: none;\n",
              "      border-radius: 50%;\n",
              "      cursor: pointer;\n",
              "      display: none;\n",
              "      fill: #1967D2;\n",
              "      height: 32px;\n",
              "      padding: 0 0 0 0;\n",
              "      width: 32px;\n",
              "    }\n",
              "\n",
              "    .colab-df-convert:hover {\n",
              "      background-color: #E2EBFA;\n",
              "      box-shadow: 0px 1px 2px rgba(60, 64, 67, 0.3), 0px 1px 3px 1px rgba(60, 64, 67, 0.15);\n",
              "      fill: #174EA6;\n",
              "    }\n",
              "\n",
              "    [theme=dark] .colab-df-convert {\n",
              "      background-color: #3B4455;\n",
              "      fill: #D2E3FC;\n",
              "    }\n",
              "\n",
              "    [theme=dark] .colab-df-convert:hover {\n",
              "      background-color: #434B5C;\n",
              "      box-shadow: 0px 1px 3px 1px rgba(0, 0, 0, 0.15);\n",
              "      filter: drop-shadow(0px 1px 2px rgba(0, 0, 0, 0.3));\n",
              "      fill: #FFFFFF;\n",
              "    }\n",
              "  </style>\n",
              "\n",
              "      <script>\n",
              "        const buttonEl =\n",
              "          document.querySelector('#df-39507226-40db-4f47-88d5-a602f7b7dbee button.colab-df-convert');\n",
              "        buttonEl.style.display =\n",
              "          google.colab.kernel.accessAllowed ? 'block' : 'none';\n",
              "\n",
              "        async function convertToInteractive(key) {\n",
              "          const element = document.querySelector('#df-39507226-40db-4f47-88d5-a602f7b7dbee');\n",
              "          const dataTable =\n",
              "            await google.colab.kernel.invokeFunction('convertToInteractive',\n",
              "                                                     [key], {});\n",
              "          if (!dataTable) return;\n",
              "\n",
              "          const docLinkHtml = 'Like what you see? Visit the ' +\n",
              "            '<a target=\"_blank\" href=https://colab.research.google.com/notebooks/data_table.ipynb>data table notebook</a>'\n",
              "            + ' to learn more about interactive tables.';\n",
              "          element.innerHTML = '';\n",
              "          dataTable['output_type'] = 'display_data';\n",
              "          await google.colab.output.renderOutput(dataTable, element);\n",
              "          const docLink = document.createElement('div');\n",
              "          docLink.innerHTML = docLinkHtml;\n",
              "          element.appendChild(docLink);\n",
              "        }\n",
              "      </script>\n",
              "    </div>\n",
              "  </div>\n",
              "  "
            ]
          },
          "metadata": {},
          "execution_count": 11
        }
      ]
    },
    {
      "cell_type": "code",
      "source": [
        "# Input: Consumer_complaint_narrative\n",
        "# Output: product"
      ],
      "metadata": {
        "id": "WgSWnBU3jmZ9"
      },
      "execution_count": 12,
      "outputs": []
    },
    {
      "cell_type": "markdown",
      "source": [
        "#**4.Imbalance Data**"
      ],
      "metadata": {
        "id": "O1xBf176T4kU"
      }
    },
    {
      "cell_type": "code",
      "source": [
        "plt.figure(figsize=(15,6))\n",
        "data.groupby(\"product\").complaint.count().plot.bar()\n",
        "# We see that the number of complaints per product is imbalanced. \n",
        "# Consumers’ complaints are more biased towards Debt collection,Credit reporting and Mortgage."
      ],
      "metadata": {
        "colab": {
          "base_uri": "https://localhost:8080/",
          "height": 769
        },
        "id": "EJf8GrghSPvo",
        "outputId": "18b64a65-bb01-4158-a8ac-bf4b4ccd96e1"
      },
      "execution_count": 13,
      "outputs": [
        {
          "output_type": "execute_result",
          "data": {
            "text/plain": [
              "<matplotlib.axes._subplots.AxesSubplot at 0x7f1df07f9590>"
            ]
          },
          "metadata": {},
          "execution_count": 13
        },
        {
          "output_type": "display_data",
          "data": {
            "text/plain": [
              "<Figure size 1080x432 with 1 Axes>"
            ],
            "image/png": "[encoded data removed]"
          },
          "metadata": {
            "needs_background": "light"
          }
        }
      ]
    },
    {
      "cell_type": "code",
      "source": [
        "# calculate a tf-idf vector for each of consumer complaint narratives:\n",
        "from sklearn.feature_extraction.text import TfidfVectorizer"
      ],
      "metadata": {
        "id": "DLvFeNIAVmDM"
      },
      "execution_count": 14,
      "outputs": []
    },
    {
      "cell_type": "code",
      "source": [
        "tfid=TfidfVectorizer(stop_words='english',  #stop_words is set to \"english\" to remove all common pronouns (\"a\", \"the\", ...)\n",
        "                     norm='l2',             #ensure all our feature vectors have a euclidian norm of 1\n",
        "                     sublinear_tf=True,     #set to True to use a logarithmic form for frequency.\n",
        "                     encoding='latin-1',    #maps possible byte values to first Unicode code points,ensures decoding errors will never occur regardless of the configured error handler\n",
        "                     min_df=5,        # minimum numbers of documents a word must be present in to be kept.\n",
        "                    ngram_range=(1,2)) #set to (1, 2) to indicate that we want to consider both unigrams and bigrams "
      ],
      "metadata": {
        "id": "mda3aPI_V20O"
      },
      "execution_count": 15,
      "outputs": []
    },
    {
      "cell_type": "code",
      "source": [
        "#We Randomly pick up 10000 data for easy interpretation\n",
        "data=data.sample(10000,random_state=12).reset_index(drop=True,)\n",
        "data.head()"
      ],
      "metadata": {
        "colab": {
          "base_uri": "https://localhost:8080/",
          "height": 206
        },
        "id": "zjYhWdAAdvWZ",
        "outputId": "45d22f6f-11ec-4832-9c9f-7727b9a2c8ef"
      },
      "execution_count": 16,
      "outputs": [
        {
          "output_type": "execute_result",
          "data": {
            "text/plain": [
              "                                             product  \\\n",
              "0                                       Student loan   \n",
              "1                                           Mortgage   \n",
              "2                                    Debt collection   \n",
              "3  Credit reporting, credit repair services, or o...   \n",
              "4                                        Credit card   \n",
              "\n",
              "                                           complaint  category_id  \n",
              "0  I was charged {$42.00} per month for the past ...            6  \n",
              "1  My mortgage servicer, Nationstar Mortgage, is ...            3  \n",
              "2  I have been receiving numerous phone calls fro...            4  \n",
              "3  I faxed over a copy of my drivers license, soc...            1  \n",
              "4  I SAW PROMOTION FOR CREDIT CARD ON XXXX FOR WE...           14  "
            ],
            "text/html": [
              "\n",
              "  <div id=\"df-c0574828-41c7-4e78-b6ed-c15adfc6ef48\">\n",
              "    <div class=\"colab-df-container\">\n",
              "      <div>\n",
              "<style scoped>\n",
              "    .dataframe tbody tr th:only-of-type {\n",
              "        vertical-align: middle;\n",
              "    }\n",
              "\n",
              "    .dataframe tbody tr th {\n",
              "        vertical-align: top;\n",
              "    }\n",
              "\n",
              "    .dataframe thead th {\n",
              "        text-align: right;\n",
              "    }\n",
              "</style>\n",
              "<table border=\"1\" class=\"dataframe\">\n",
              "  <thead>\n",
              "    <tr style=\"text-align: right;\">\n",
              "      <th></th>\n",
              "      <th>product</th>\n",
              "      <th>complaint</th>\n",
              "      <th>category_id</th>\n",
              "    </tr>\n",
              "  </thead>\n",
              "  <tbody>\n",
              "    <tr>\n",
              "      <th>0</th>\n",
              "      <td>Student loan</td>\n",
              "      <td>I was charged {$42.00} per month for the past ...</td>\n",
              "      <td>6</td>\n",
              "    </tr>\n",
              "    <tr>\n",
              "      <th>1</th>\n",
              "      <td>Mortgage</td>\n",
              "      <td>My mortgage servicer, Nationstar Mortgage, is ...</td>\n",
              "      <td>3</td>\n",
              "    </tr>\n",
              "    <tr>\n",
              "      <th>2</th>\n",
              "      <td>Debt collection</td>\n",
              "      <td>I have been receiving numerous phone calls fro...</td>\n",
              "      <td>4</td>\n",
              "    </tr>\n",
              "    <tr>\n",
              "      <th>3</th>\n",
              "      <td>Credit reporting, credit repair services, or o...</td>\n",
              "      <td>I faxed over a copy of my drivers license, soc...</td>\n",
              "      <td>1</td>\n",
              "    </tr>\n",
              "    <tr>\n",
              "      <th>4</th>\n",
              "      <td>Credit card</td>\n",
              "      <td>I SAW PROMOTION FOR CREDIT CARD ON XXXX FOR WE...</td>\n",
              "      <td>14</td>\n",
              "    </tr>\n",
              "  </tbody>\n",
              "</table>\n",
              "</div>\n",
              "      <button class=\"colab-df-convert\" onclick=\"convertToInteractive('df-c0574828-41c7-4e78-b6ed-c15adfc6ef48')\"\n",
              "              title=\"Convert this dataframe to an interactive table.\"\n",
              "              style=\"display:none;\">\n",
              "        \n",
              "  <svg xmlns=\"http://www.w3.org/2000/svg\" height=\"24px\"viewBox=\"0 0 24 24\"\n",
              "       width=\"24px\">\n",
              "    <path d=\"M0 0h24v24H0V0z\" fill=\"none\"/>\n",
              "    <path d=\"M18.56 5.44l.94 2.06.94-2.06 2.06-.94-2.06-.94-.94-2.06-.94 2.06-2.06.94zm-11 1L8.5 8.5l.94-2.06 2.06-.94-2.06-.94L8.5 2.5l-.94 2.06-2.06.94zm10 10l.94 2.06.94-2.06 2.06-.94-2.06-.94-.94-2.06-.94 2.06-2.06.94z\"/><path d=\"M17.41 7.96l-1.37-1.37c-.4-.4-.92-.59-1.43-.59-.52 0-1.04.2-1.43.59L10.3 9.45l-7.72 7.72c-.78.78-.78 2.05 0 2.83L4 21.41c.39.39.9.59 1.41.59.51 0 1.02-.2 1.41-.59l7.78-7.78 2.81-2.81c.8-.78.8-2.07 0-2.86zM5.41 20L4 18.59l7.72-7.72 1.47 1.35L5.41 20z\"/>\n",
              "  </svg>\n",
              "      </button>\n",
              "      \n",
              "  <style>\n",
              "    .colab-df-container {\n",
              "      display:flex;\n",
              "      flex-wrap:wrap;\n",
              "      gap: 12px;\n",
              "    }\n",
              "\n",
              "    .colab-df-convert {\n",
              "      background-color: #E8F0FE;\n",
              "      border: none;\n",
              "      border-radius: 50%;\n",
              "      cursor: pointer;\n",
              "      display: none;\n",
              "      fill: #1967D2;\n",
              "      height: 32px;\n",
              "      padding: 0 0 0 0;\n",
              "      width: 32px;\n",
              "    }\n",
              "\n",
              "    .colab-df-convert:hover {\n",
              "      background-color: #E2EBFA;\n",
              "      box-shadow: 0px 1px 2px rgba(60, 64, 67, 0.3), 0px 1px 3px 1px rgba(60, 64, 67, 0.15);\n",
              "      fill: #174EA6;\n",
              "    }\n",
              "\n",
              "    [theme=dark] .colab-df-convert {\n",
              "      background-color: #3B4455;\n",
              "      fill: #D2E3FC;\n",
              "    }\n",
              "\n",
              "    [theme=dark] .colab-df-convert:hover {\n",
              "      background-color: #434B5C;\n",
              "      box-shadow: 0px 1px 3px 1px rgba(0, 0, 0, 0.15);\n",
              "      filter: drop-shadow(0px 1px 2px rgba(0, 0, 0, 0.3));\n",
              "      fill: #FFFFFF;\n",
              "    }\n",
              "  </style>\n",
              "\n",
              "      <script>\n",
              "        const buttonEl =\n",
              "          document.querySelector('#df-c0574828-41c7-4e78-b6ed-c15adfc6ef48 button.colab-df-convert');\n",
              "        buttonEl.style.display =\n",
              "          google.colab.kernel.accessAllowed ? 'block' : 'none';\n",
              "\n",
              "        async function convertToInteractive(key) {\n",
              "          const element = document.querySelector('#df-c0574828-41c7-4e78-b6ed-c15adfc6ef48');\n",
              "          const dataTable =\n",
              "            await google.colab.kernel.invokeFunction('convertToInteractive',\n",
              "                                                     [key], {});\n",
              "          if (!dataTable) return;\n",
              "\n",
              "          const docLinkHtml = 'Like what you see? Visit the ' +\n",
              "            '<a target=\"_blank\" href=https://colab.research.google.com/notebooks/data_table.ipynb>data table notebook</a>'\n",
              "            + ' to learn more about interactive tables.';\n",
              "          element.innerHTML = '';\n",
              "          dataTable['output_type'] = 'display_data';\n",
              "          await google.colab.output.renderOutput(dataTable, element);\n",
              "          const docLink = document.createElement('div');\n",
              "          docLink.innerHTML = docLinkHtml;\n",
              "          element.appendChild(docLink);\n",
              "        }\n",
              "      </script>\n",
              "    </div>\n",
              "  </div>\n",
              "  "
            ]
          },
          "metadata": {},
          "execution_count": 16
        }
      ]
    },
    {
      "cell_type": "code",
      "source": [
        "#Define Fetures and labels\n",
        "fetures=tfid.fit_transform(data.complaint).toarray()\n",
        "labels=data.category_id"
      ],
      "metadata": {
        "id": "IBTfI59JYKMn"
      },
      "execution_count": 17,
      "outputs": []
    },
    {
      "cell_type": "code",
      "source": [
        "#devide train and test dataset\n",
        "x_train,y_test,y_train,y_test=train_test_split(data['complaint'],data['product'],random_state=0)"
      ],
      "metadata": {
        "id": "1VYUfYdkV2HZ"
      },
      "execution_count": 18,
      "outputs": []
    },
    {
      "cell_type": "code",
      "source": [
        "# tokenize a collection of text documents and build a vocabulary of known words, but also to encode new documents using that vocabulary.\n",
        "cv=CountVectorizer()\n",
        "x_train_count=cv.fit_transform(x_train)"
      ],
      "metadata": {
        "id": "nYcc7QTMguFq"
      },
      "execution_count": 19,
      "outputs": []
    },
    {
      "cell_type": "code",
      "source": [
        "# Transform a count matrix to a normalized tf or tf-idf representation.\n",
        "tfid_transformer=TfidfTransformer()\n",
        "x_train_tfid=tfid_transformer.fit_transform(x_train_count)"
      ],
      "metadata": {
        "id": "prDaIF4Xhhql"
      },
      "execution_count": 20,
      "outputs": []
    },
    {
      "cell_type": "code",
      "source": [
        "# Naive Bayes Classifier .the one most suitable for word counts is the multinomial variant.\n",
        "clf=MultinomialNB().fit(x_train_tfid,y_train)"
      ],
      "metadata": {
        "id": "ZbdB3OcMh00Q"
      },
      "execution_count": 21,
      "outputs": []
    },
    {
      "cell_type": "markdown",
      "source": [
        "#**5.prediction**"
      ],
      "metadata": {
        "id": "JLcii2uJi4KT"
      }
    },
    {
      "cell_type": "code",
      "source": [
        "data[data['complaint']== \"I have been monitoring my credit report with Transunion only for about 3 months. I had an identity theft a few years ago and it was never resolved. I was forced into a bankruptcy in 2015. I have been working very hard to get my credit repaired, but Transunion seems to be very careless about what they put on a person 's report. They have multiple inaccuracies, first, I have an auto loan with XXXX XXXX XXXX. I am showing as about 6 months late payments. This loan is in litigation with the XXXX XXXX XXXX for harassing collection calls made to me when my payments were not late. Since the attorney took this case, XXXX has mailed me back every payment I have sent them. They will not talk to me at all about the account, saying that everything is on hold pending the resolution of this. They will not make this known to Transunion. \\nAlso, I have disputed several times collection accounts that have appeared on the report. These are not my accounts. They will not remove them. I also have some medical collections which should not be there, as to my knowledge, my insurance covered. I was told by the doctor that I have no copay and did not owe anything, yet these remain. \\nToday I received a notice that a new collection went on, but I can not find it. It took 80 points from my score. \\nThe only item new is the report showing that I used my credit card. \\nThe other issue is that I want an explanation as to why a credit score determines what you have to pay for Car Insurance, House Insurance, Life Insurance, and whether you can have a bank account. This is OUTRAGEOUS! There is NO VALID reason why this should be as it is. \\nThese Credit Reporting Bureaus should be ABOLISHED!! They are causing untold destruction to people who have had things happen that are NOT in their CONTROL!\"]"
      ],
      "metadata": {
        "colab": {
          "base_uri": "https://localhost:8080/",
          "height": 80
        },
        "id": "NWshWFXwJ_ag",
        "outputId": "2cb51cde-ac10-46f0-9a3c-9f220d4c6257"
      },
      "execution_count": 22,
      "outputs": [
        {
          "output_type": "execute_result",
          "data": {
            "text/plain": [
              "                                                product  \\\n",
              "9998  Credit reporting, credit repair services, or o...   \n",
              "\n",
              "                                              complaint  category_id  \n",
              "9998  I have been monitoring my credit report with T...            1  "
            ],
            "text/html": [
              "\n",
              "  <div id=\"df-0336f26a-fe64-483b-970a-0e1c9340ffd6\">\n",
              "    <div class=\"colab-df-container\">\n",
              "      <div>\n",
              "<style scoped>\n",
              "    .dataframe tbody tr th:only-of-type {\n",
              "        vertical-align: middle;\n",
              "    }\n",
              "\n",
              "    .dataframe tbody tr th {\n",
              "        vertical-align: top;\n",
              "    }\n",
              "\n",
              "    .dataframe thead th {\n",
              "        text-align: right;\n",
              "    }\n",
              "</style>\n",
              "<table border=\"1\" class=\"dataframe\">\n",
              "  <thead>\n",
              "    <tr style=\"text-align: right;\">\n",
              "      <th></th>\n",
              "      <th>product</th>\n",
              "      <th>complaint</th>\n",
              "      <th>category_id</th>\n",
              "    </tr>\n",
              "  </thead>\n",
              "  <tbody>\n",
              "    <tr>\n",
              "      <th>9998</th>\n",
              "      <td>Credit reporting, credit repair services, or o...</td>\n",
              "      <td>I have been monitoring my credit report with T...</td>\n",
              "      <td>1</td>\n",
              "    </tr>\n",
              "  </tbody>\n",
              "</table>\n",
              "</div>\n",
              "      <button class=\"colab-df-convert\" onclick=\"convertToInteractive('df-0336f26a-fe64-483b-970a-0e1c9340ffd6')\"\n",
              "              title=\"Convert this dataframe to an interactive table.\"\n",
              "              style=\"display:none;\">\n",
              "        \n",
              "  <svg xmlns=\"http://www.w3.org/2000/svg\" height=\"24px\"viewBox=\"0 0 24 24\"\n",
              "       width=\"24px\">\n",
              "    <path d=\"M0 0h24v24H0V0z\" fill=\"none\"/>\n",
              "    <path d=\"M18.56 5.44l.94 2.06.94-2.06 2.06-.94-2.06-.94-.94-2.06-.94 2.06-2.06.94zm-11 1L8.5 8.5l.94-2.06 2.06-.94-2.06-.94L8.5 2.5l-.94 2.06-2.06.94zm10 10l.94 2.06.94-2.06 2.06-.94-2.06-.94-.94-2.06-.94 2.06-2.06.94z\"/><path d=\"M17.41 7.96l-1.37-1.37c-.4-.4-.92-.59-1.43-.59-.52 0-1.04.2-1.43.59L10.3 9.45l-7.72 7.72c-.78.78-.78 2.05 0 2.83L4 21.41c.39.39.9.59 1.41.59.51 0 1.02-.2 1.41-.59l7.78-7.78 2.81-2.81c.8-.78.8-2.07 0-2.86zM5.41 20L4 18.59l7.72-7.72 1.47 1.35L5.41 20z\"/>\n",
              "  </svg>\n",
              "      </button>\n",
              "      \n",
              "  <style>\n",
              "    .colab-df-container {\n",
              "      display:flex;\n",
              "      flex-wrap:wrap;\n",
              "      gap: 12px;\n",
              "    }\n",
              "\n",
              "    .colab-df-convert {\n",
              "      background-color: #E8F0FE;\n",
              "      border: none;\n",
              "      border-radius: 50%;\n",
              "      cursor: pointer;\n",
              "      display: none;\n",
              "      fill: #1967D2;\n",
              "      height: 32px;\n",
              "      padding: 0 0 0 0;\n",
              "      width: 32px;\n",
              "    }\n",
              "\n",
              "    .colab-df-convert:hover {\n",
              "      background-color: #E2EBFA;\n",
              "      box-shadow: 0px 1px 2px rgba(60, 64, 67, 0.3), 0px 1px 3px 1px rgba(60, 64, 67, 0.15);\n",
              "      fill: #174EA6;\n",
              "    }\n",
              "\n",
              "    [theme=dark] .colab-df-convert {\n",
              "      background-color: #3B4455;\n",
              "      fill: #D2E3FC;\n",
              "    }\n",
              "\n",
              "    [theme=dark] .colab-df-convert:hover {\n",
              "      background-color: #434B5C;\n",
              "      box-shadow: 0px 1px 3px 1px rgba(0, 0, 0, 0.15);\n",
              "      filter: drop-shadow(0px 1px 2px rgba(0, 0, 0, 0.3));\n",
              "      fill: #FFFFFF;\n",
              "    }\n",
              "  </style>\n",
              "\n",
              "      <script>\n",
              "        const buttonEl =\n",
              "          document.querySelector('#df-0336f26a-fe64-483b-970a-0e1c9340ffd6 button.colab-df-convert');\n",
              "        buttonEl.style.display =\n",
              "          google.colab.kernel.accessAllowed ? 'block' : 'none';\n",
              "\n",
              "        async function convertToInteractive(key) {\n",
              "          const element = document.querySelector('#df-0336f26a-fe64-483b-970a-0e1c9340ffd6');\n",
              "          const dataTable =\n",
              "            await google.colab.kernel.invokeFunction('convertToInteractive',\n",
              "                                                     [key], {});\n",
              "          if (!dataTable) return;\n",
              "\n",
              "          const docLinkHtml = 'Like what you see? Visit the ' +\n",
              "            '<a target=\"_blank\" href=https://colab.research.google.com/notebooks/data_table.ipynb>data table notebook</a>'\n",
              "            + ' to learn more about interactive tables.';\n",
              "          element.innerHTML = '';\n",
              "          dataTable['output_type'] = 'display_data';\n",
              "          await google.colab.output.renderOutput(dataTable, element);\n",
              "          const docLink = document.createElement('div');\n",
              "          docLink.innerHTML = docLinkHtml;\n",
              "          element.appendChild(docLink);\n",
              "        }\n",
              "      </script>\n",
              "    </div>\n",
              "  </div>\n",
              "  "
            ]
          },
          "metadata": {},
          "execution_count": 22
        }
      ]
    },
    {
      "cell_type": "code",
      "source": [
        "print(clf.predict(cv.transform(['After receiving this paper bill through the mail, I called my dental office to verify. My dental office said I was all paid up and had a XXXX balance. The office XXXX confirmed that the bill was fraudulent, which is why I decided not to contact them but report them instead.'])))"
      ],
      "metadata": {
        "colab": {
          "base_uri": "https://localhost:8080/"
        },
        "id": "KABrhAFWLjgY",
        "outputId": "f44b8bcc-7fa5-4e48-bbb7-0a0be6a93c96"
      },
      "execution_count": 23,
      "outputs": [
        {
          "output_type": "stream",
          "name": "stdout",
          "text": [
            "['Credit reporting, credit repair services, or other personal consumer reports']\n"
          ]
        }
      ]
    },
    {
      "cell_type": "code",
      "source": [
        "data[data['complaint']=='After receiving this paper bill through the mail, I called my dental office to verify. My dental office said I was all paid up and had a XXXX balance. The office XXXX confirmed that the bill was fraudulent, which is why I decided not to contact them but report them instead.']"
      ],
      "metadata": {
        "colab": {
          "base_uri": "https://localhost:8080/",
          "height": 80
        },
        "id": "HZOAlQ7PLETc",
        "outputId": "5bc4a60a-ce0b-44a8-f156-77306ea4fe24"
      },
      "execution_count": 24,
      "outputs": [
        {
          "output_type": "execute_result",
          "data": {
            "text/plain": [
              "              product                                          complaint  \\\n",
              "9996  Debt collection  After receiving this paper bill through the ma...   \n",
              "\n",
              "      category_id  \n",
              "9996            4  "
            ],
            "text/html": [
              "\n",
              "  <div id=\"df-8ac4d60f-585a-40f0-a454-b876325186ff\">\n",
              "    <div class=\"colab-df-container\">\n",
              "      <div>\n",
              "<style scoped>\n",
              "    .dataframe tbody tr th:only-of-type {\n",
              "        vertical-align: middle;\n",
              "    }\n",
              "\n",
              "    .dataframe tbody tr th {\n",
              "        vertical-align: top;\n",
              "    }\n",
              "\n",
              "    .dataframe thead th {\n",
              "        text-align: right;\n",
              "    }\n",
              "</style>\n",
              "<table border=\"1\" class=\"dataframe\">\n",
              "  <thead>\n",
              "    <tr style=\"text-align: right;\">\n",
              "      <th></th>\n",
              "      <th>product</th>\n",
              "      <th>complaint</th>\n",
              "      <th>category_id</th>\n",
              "    </tr>\n",
              "  </thead>\n",
              "  <tbody>\n",
              "    <tr>\n",
              "      <th>9996</th>\n",
              "      <td>Debt collection</td>\n",
              "      <td>After receiving this paper bill through the ma...</td>\n",
              "      <td>4</td>\n",
              "    </tr>\n",
              "  </tbody>\n",
              "</table>\n",
              "</div>\n",
              "      <button class=\"colab-df-convert\" onclick=\"convertToInteractive('df-8ac4d60f-585a-40f0-a454-b876325186ff')\"\n",
              "              title=\"Convert this dataframe to an interactive table.\"\n",
              "              style=\"display:none;\">\n",
              "        \n",
              "  <svg xmlns=\"http://www.w3.org/2000/svg\" height=\"24px\"viewBox=\"0 0 24 24\"\n",
              "       width=\"24px\">\n",
              "    <path d=\"M0 0h24v24H0V0z\" fill=\"none\"/>\n",
              "    <path d=\"M18.56 5.44l.94 2.06.94-2.06 2.06-.94-2.06-.94-.94-2.06-.94 2.06-2.06.94zm-11 1L8.5 8.5l.94-2.06 2.06-.94-2.06-.94L8.5 2.5l-.94 2.06-2.06.94zm10 10l.94 2.06.94-2.06 2.06-.94-2.06-.94-.94-2.06-.94 2.06-2.06.94z\"/><path d=\"M17.41 7.96l-1.37-1.37c-.4-.4-.92-.59-1.43-.59-.52 0-1.04.2-1.43.59L10.3 9.45l-7.72 7.72c-.78.78-.78 2.05 0 2.83L4 21.41c.39.39.9.59 1.41.59.51 0 1.02-.2 1.41-.59l7.78-7.78 2.81-2.81c.8-.78.8-2.07 0-2.86zM5.41 20L4 18.59l7.72-7.72 1.47 1.35L5.41 20z\"/>\n",
              "  </svg>\n",
              "      </button>\n",
              "      \n",
              "  <style>\n",
              "    .colab-df-container {\n",
              "      display:flex;\n",
              "      flex-wrap:wrap;\n",
              "      gap: 12px;\n",
              "    }\n",
              "\n",
              "    .colab-df-convert {\n",
              "      background-color: #E8F0FE;\n",
              "      border: none;\n",
              "      border-radius: 50%;\n",
              "      cursor: pointer;\n",
              "      display: none;\n",
              "      fill: #1967D2;\n",
              "      height: 32px;\n",
              "      padding: 0 0 0 0;\n",
              "      width: 32px;\n",
              "    }\n",
              "\n",
              "    .colab-df-convert:hover {\n",
              "      background-color: #E2EBFA;\n",
              "      box-shadow: 0px 1px 2px rgba(60, 64, 67, 0.3), 0px 1px 3px 1px rgba(60, 64, 67, 0.15);\n",
              "      fill: #174EA6;\n",
              "    }\n",
              "\n",
              "    [theme=dark] .colab-df-convert {\n",
              "      background-color: #3B4455;\n",
              "      fill: #D2E3FC;\n",
              "    }\n",
              "\n",
              "    [theme=dark] .colab-df-convert:hover {\n",
              "      background-color: #434B5C;\n",
              "      box-shadow: 0px 1px 3px 1px rgba(0, 0, 0, 0.15);\n",
              "      filter: drop-shadow(0px 1px 2px rgba(0, 0, 0, 0.3));\n",
              "      fill: #FFFFFF;\n",
              "    }\n",
              "  </style>\n",
              "\n",
              "      <script>\n",
              "        const buttonEl =\n",
              "          document.querySelector('#df-8ac4d60f-585a-40f0-a454-b876325186ff button.colab-df-convert');\n",
              "        buttonEl.style.display =\n",
              "          google.colab.kernel.accessAllowed ? 'block' : 'none';\n",
              "\n",
              "        async function convertToInteractive(key) {\n",
              "          const element = document.querySelector('#df-8ac4d60f-585a-40f0-a454-b876325186ff');\n",
              "          const dataTable =\n",
              "            await google.colab.kernel.invokeFunction('convertToInteractive',\n",
              "                                                     [key], {});\n",
              "          if (!dataTable) return;\n",
              "\n",
              "          const docLinkHtml = 'Like what you see? Visit the ' +\n",
              "            '<a target=\"_blank\" href=https://colab.research.google.com/notebooks/data_table.ipynb>data table notebook</a>'\n",
              "            + ' to learn more about interactive tables.';\n",
              "          element.innerHTML = '';\n",
              "          dataTable['output_type'] = 'display_data';\n",
              "          await google.colab.output.renderOutput(dataTable, element);\n",
              "          const docLink = document.createElement('div');\n",
              "          docLink.innerHTML = docLinkHtml;\n",
              "          element.appendChild(docLink);\n",
              "        }\n",
              "      </script>\n",
              "    </div>\n",
              "  </div>\n",
              "  "
            ]
          },
          "metadata": {},
          "execution_count": 24
        }
      ]
    },
    {
      "cell_type": "code",
      "source": [
        "print(clf.predict(cv.transform([\"In XXXX I got an American Express card, In XXXX I was not receiving my bills, I contacted American Express, They told me that my account was placed with a collection agency. I received several calls from a collection agency call XXXX  about the account. In XXXX I sent a letter to get the debt validated. See attach. \\n\\nI called them in XXXX for a follow-up and was told they no longer had the account. I called American Express and informed them that the company is no longer holding the account and they never validated the debt. I explain to them that I sent them a validation letter and got no response. \\n\\nWhen I called in XX/XX/XXXX, I was told the account charged off. In the month of XXXX, I received 8 phone calls of harassment from a company called XXXX XXXX, I asked them to validate the debt, I sent them a letter to validate the debt, They never did. When I followed up with them, I was told they no longer had the debt. \\n\\nThey told me it was back with American Express, I called American Express collection to speak about the bill and they were rude to me and never validated the debt. I asked to send me the bill by email because I had to move out of the country. They refused. \\n\\nI've tried for many years to get the debt validated and got no way. The statue of limitation for them to sue me has passed. They had my wrong address, they did not validate the debt. I ran my credit report yesterday only to find out that they put the debt back on my account. \\n\\nI contacted them and they said because I disputed it, they put it back on my account. This is really some XXXX. I do not owe this debt, It's on my three credit report\",])))"
      ],
      "metadata": {
        "colab": {
          "base_uri": "https://localhost:8080/"
        },
        "id": "_eJ4Vq8cYqcP",
        "outputId": "298feea8-1c7c-45d3-af30-156477929cb9"
      },
      "execution_count": 25,
      "outputs": [
        {
          "output_type": "stream",
          "name": "stdout",
          "text": [
            "['Credit reporting, credit repair services, or other personal consumer reports']\n"
          ]
        }
      ]
    },
    {
      "cell_type": "code",
      "source": [
        "#Prediction\n",
        "print(clf.predict(cv.transform(['On XX/XX/2021 my unemployment weekly amount was put on my Way2go card. Immediately after I transferred the entire amount to my XXXX XXXX XXXX account. They claim it takes 3 - 4 business days but it has never cleared with XXXX. I spoke with 3 different customer reps. at Way2go and they are all giving me the rundown that I need to be patient. Today is the XXXX & I have spoken with XXXX a couple of times. They have no record of any pending transfers from Way2go. The last message from Way2go said that it could take up to 5 weeks to resolve any issues. This is ridiculous I need my money to be put back into my account. I have XXXX $ presently in the account from this weeks payment. I am missing last weeks payment which should equal total of {$720.00} in my account as of today. Please help me. Thanks',])))"
      ],
      "metadata": {
        "colab": {
          "base_uri": "https://localhost:8080/"
        },
        "id": "hw9hYl2DTViv",
        "outputId": "86699d57-00f4-4b70-d7e4-b3f3f42e2e9d"
      },
      "execution_count": 26,
      "outputs": [
        {
          "output_type": "stream",
          "name": "stdout",
          "text": [
            "['Credit reporting, credit repair services, or other personal consumer reports']\n"
          ]
        }
      ]
    },
    {
      "cell_type": "code",
      "source": [
        "data[data['complaint']=='My mortgage servicer, Nationstar Mortgage, is attempting to perform a foreclosure sale on my property, by using falsified documents. There are many discrepancies on who actually is the owner/certificate holder of my mortgage. The documents Nationstar has provided, lists XXXX XXXX. Yet, in doing research, XXXX XXXX Associates have verified that there is no connection to my mortgage and their locations. Because my mortgage loan was apparently securitized, the paper work in the apparent transfers were not properly performed. Thank you for your time and attention in this matter. XXXX XXXX']"
      ],
      "metadata": {
        "colab": {
          "base_uri": "https://localhost:8080/",
          "height": 80
        },
        "id": "00RObBJlD5a0",
        "outputId": "0ae51472-7176-4656-ba02-4ed03c91d091"
      },
      "execution_count": 27,
      "outputs": [
        {
          "output_type": "execute_result",
          "data": {
            "text/plain": [
              "    product                                          complaint  category_id\n",
              "1  Mortgage  My mortgage servicer, Nationstar Mortgage, is ...            3"
            ],
            "text/html": [
              "\n",
              "  <div id=\"df-8b137a71-f4b4-4bf0-8c39-ad97face7e0f\">\n",
              "    <div class=\"colab-df-container\">\n",
              "      <div>\n",
              "<style scoped>\n",
              "    .dataframe tbody tr th:only-of-type {\n",
              "        vertical-align: middle;\n",
              "    }\n",
              "\n",
              "    .dataframe tbody tr th {\n",
              "        vertical-align: top;\n",
              "    }\n",
              "\n",
              "    .dataframe thead th {\n",
              "        text-align: right;\n",
              "    }\n",
              "</style>\n",
              "<table border=\"1\" class=\"dataframe\">\n",
              "  <thead>\n",
              "    <tr style=\"text-align: right;\">\n",
              "      <th></th>\n",
              "      <th>product</th>\n",
              "      <th>complaint</th>\n",
              "      <th>category_id</th>\n",
              "    </tr>\n",
              "  </thead>\n",
              "  <tbody>\n",
              "    <tr>\n",
              "      <th>1</th>\n",
              "      <td>Mortgage</td>\n",
              "      <td>My mortgage servicer, Nationstar Mortgage, is ...</td>\n",
              "      <td>3</td>\n",
              "    </tr>\n",
              "  </tbody>\n",
              "</table>\n",
              "</div>\n",
              "      <button class=\"colab-df-convert\" onclick=\"convertToInteractive('df-8b137a71-f4b4-4bf0-8c39-ad97face7e0f')\"\n",
              "              title=\"Convert this dataframe to an interactive table.\"\n",
              "              style=\"display:none;\">\n",
              "        \n",
              "  <svg xmlns=\"http://www.w3.org/2000/svg\" height=\"24px\"viewBox=\"0 0 24 24\"\n",
              "       width=\"24px\">\n",
              "    <path d=\"M0 0h24v24H0V0z\" fill=\"none\"/>\n",
              "    <path d=\"M18.56 5.44l.94 2.06.94-2.06 2.06-.94-2.06-.94-.94-2.06-.94 2.06-2.06.94zm-11 1L8.5 8.5l.94-2.06 2.06-.94-2.06-.94L8.5 2.5l-.94 2.06-2.06.94zm10 10l.94 2.06.94-2.06 2.06-.94-2.06-.94-.94-2.06-.94 2.06-2.06.94z\"/><path d=\"M17.41 7.96l-1.37-1.37c-.4-.4-.92-.59-1.43-.59-.52 0-1.04.2-1.43.59L10.3 9.45l-7.72 7.72c-.78.78-.78 2.05 0 2.83L4 21.41c.39.39.9.59 1.41.59.51 0 1.02-.2 1.41-.59l7.78-7.78 2.81-2.81c.8-.78.8-2.07 0-2.86zM5.41 20L4 18.59l7.72-7.72 1.47 1.35L5.41 20z\"/>\n",
              "  </svg>\n",
              "      </button>\n",
              "      \n",
              "  <style>\n",
              "    .colab-df-container {\n",
              "      display:flex;\n",
              "      flex-wrap:wrap;\n",
              "      gap: 12px;\n",
              "    }\n",
              "\n",
              "    .colab-df-convert {\n",
              "      background-color: #E8F0FE;\n",
              "      border: none;\n",
              "      border-radius: 50%;\n",
              "      cursor: pointer;\n",
              "      display: none;\n",
              "      fill: #1967D2;\n",
              "      height: 32px;\n",
              "      padding: 0 0 0 0;\n",
              "      width: 32px;\n",
              "    }\n",
              "\n",
              "    .colab-df-convert:hover {\n",
              "      background-color: #E2EBFA;\n",
              "      box-shadow: 0px 1px 2px rgba(60, 64, 67, 0.3), 0px 1px 3px 1px rgba(60, 64, 67, 0.15);\n",
              "      fill: #174EA6;\n",
              "    }\n",
              "\n",
              "    [theme=dark] .colab-df-convert {\n",
              "      background-color: #3B4455;\n",
              "      fill: #D2E3FC;\n",
              "    }\n",
              "\n",
              "    [theme=dark] .colab-df-convert:hover {\n",
              "      background-color: #434B5C;\n",
              "      box-shadow: 0px 1px 3px 1px rgba(0, 0, 0, 0.15);\n",
              "      filter: drop-shadow(0px 1px 2px rgba(0, 0, 0, 0.3));\n",
              "      fill: #FFFFFF;\n",
              "    }\n",
              "  </style>\n",
              "\n",
              "      <script>\n",
              "        const buttonEl =\n",
              "          document.querySelector('#df-8b137a71-f4b4-4bf0-8c39-ad97face7e0f button.colab-df-convert');\n",
              "        buttonEl.style.display =\n",
              "          google.colab.kernel.accessAllowed ? 'block' : 'none';\n",
              "\n",
              "        async function convertToInteractive(key) {\n",
              "          const element = document.querySelector('#df-8b137a71-f4b4-4bf0-8c39-ad97face7e0f');\n",
              "          const dataTable =\n",
              "            await google.colab.kernel.invokeFunction('convertToInteractive',\n",
              "                                                     [key], {});\n",
              "          if (!dataTable) return;\n",
              "\n",
              "          const docLinkHtml = 'Like what you see? Visit the ' +\n",
              "            '<a target=\"_blank\" href=https://colab.research.google.com/notebooks/data_table.ipynb>data table notebook</a>'\n",
              "            + ' to learn more about interactive tables.';\n",
              "          element.innerHTML = '';\n",
              "          dataTable['output_type'] = 'display_data';\n",
              "          await google.colab.output.renderOutput(dataTable, element);\n",
              "          const docLink = document.createElement('div');\n",
              "          docLink.innerHTML = docLinkHtml;\n",
              "          element.appendChild(docLink);\n",
              "        }\n",
              "      </script>\n",
              "    </div>\n",
              "  </div>\n",
              "  "
            ]
          },
          "metadata": {},
          "execution_count": 27
        }
      ]
    },
    {
      "cell_type": "code",
      "source": [
        "print(clf.predict(cv.transform(['I recently applied for a home loan and was denied do to fraudulent activities. I have never applied for AMEX or have I used this credit card. I have recently tried to dispute this directly with the bureaus and asked for an Itemized bill, they verified as accurate. The reason why I asked for this is because I was served in XXXX for XXXX XXXX XXXX and hired an Attorney XXXX XXXX. We were able to prove I never used it and my signature from the one on the application was different. They also showed me an itemized bill There were charges to flights to XXXX, AZ and other places. I showed my passport to show proof that this was never me who took these vacations or that I used it. There was no stamp of indication that I have ever flown out of Colorado, it was plain. They came to the conclusion it was not me and dismissed it. I proved that this was not me who took this CC out but my EX- Husband. We showed the divorce papers to show that we had divorced in XX/XX/XXXX and he would be the only person that could have done this since he would have had my personal information. I am willing to do the same thing for AMEX. I have never applied nor used their CC.',])))"
      ],
      "metadata": {
        "colab": {
          "base_uri": "https://localhost:8080/"
        },
        "id": "7khze3XuUlK4",
        "outputId": "b9e2e0c1-e9e9-4af7-a7c1-a8c124f4ba78"
      },
      "execution_count": 28,
      "outputs": [
        {
          "output_type": "stream",
          "name": "stdout",
          "text": [
            "['Credit reporting, credit repair services, or other personal consumer reports']\n"
          ]
        }
      ]
    },
    {
      "cell_type": "code",
      "source": [
        "#Predition\n",
        "print(clf.predict(cv.transform(['This company did not even give Me a chance to pay. Three people signed our lease agreement, our father just cosigned. The bill in question was always going to be paid but we never got a bill, yesterday Our father was served with an intent to file, even though we are the actual signees, and they will not allow us to even set up a payment plan. Our father speaks broken english but has assets, and they are trying to take advantage of him and scare him into paying them in full by making him think he will lose everything if he doesnt cut them a check in full for our bill. These people are preying on someone who they know doesnt fully understand the situation.'])))"
      ],
      "metadata": {
        "colab": {
          "base_uri": "https://localhost:8080/"
        },
        "id": "Vw6gHYYiufx2",
        "outputId": "080c249e-c544-437b-ac00-ae34eda79f41"
      },
      "execution_count": 29,
      "outputs": [
        {
          "output_type": "stream",
          "name": "stdout",
          "text": [
            "['Credit reporting, credit repair services, or other personal consumer reports']\n"
          ]
        }
      ]
    },
    {
      "cell_type": "markdown",
      "source": [
        "#**6.Model Building**"
      ],
      "metadata": {
        "id": "hcjGJYN0vsGn"
      }
    },
    {
      "cell_type": "code",
      "source": [
        "#Split data in training and testing\n",
        "x_train, x_test, y_train, y_test, indices_train, indices_test = train_test_split(fetures, labels, data.index, test_size=0.33, random_state=0)"
      ],
      "metadata": {
        "id": "Nffvw1-Tr_rG"
      },
      "execution_count": 30,
      "outputs": []
    },
    {
      "cell_type": "code",
      "source": [
        "# The objective of a Linear SVC (Support Vector Classifier) is to fit to the data you provide,\n",
        "# returning a \"best fit\" hyperplane that divides, or categorizes, your data. \n",
        "#Build the model\n",
        "model=LinearSVC()\n",
        "model.fit(x_train,y_train)"
      ],
      "metadata": {
        "colab": {
          "base_uri": "https://localhost:8080/"
        },
        "id": "BHXH8r00tCvx",
        "outputId": "4f90b0a0-a6b7-4e7a-c237-a1a16e1798be"
      },
      "execution_count": 31,
      "outputs": [
        {
          "output_type": "execute_result",
          "data": {
            "text/plain": [
              "LinearSVC()"
            ]
          },
          "metadata": {},
          "execution_count": 31
        }
      ]
    },
    {
      "cell_type": "markdown",
      "source": [
        "#**7.Model Testing**"
      ],
      "metadata": {
        "id": "4kQzP8tmy_2_"
      }
    },
    {
      "cell_type": "code",
      "source": [
        "#Predict test data with help of model\n",
        "y_pred=model.predict(x_test)"
      ],
      "metadata": {
        "id": "LeYtIjZrtokw"
      },
      "execution_count": 32,
      "outputs": []
    },
    {
      "cell_type": "code",
      "source": [
        "#Summary of the number of correct and incorrect predictions made by a classifier.\n",
        "con_matrix=confusion_matrix(y_test,y_pred)"
      ],
      "metadata": {
        "id": "gKvl-vIEtrXn"
      },
      "execution_count": 33,
      "outputs": []
    },
    {
      "cell_type": "markdown",
      "source": [
        "**7.1 Heat Map**"
      ],
      "metadata": {
        "id": "wlTiH7QY132S"
      }
    },
    {
      "cell_type": "code",
      "source": [
        "#Plot Heat map\n",
        "#Heatmap contains values representing various shades of the same colour for each value to be plotted\n",
        "fig,ax=plt.subplots(figsize=(15,10))\n",
        "sns.heatmap(con_matrix,annot=True,fmt='d',xticklabels=data['product'].unique(),yticklabels=data['product'].unique())\n",
        "plt.ylabel('Actual')\n",
        "plt.xlabel('Predicted')\n",
        "plt.show()"
      ],
      "metadata": {
        "colab": {
          "base_uri": "https://localhost:8080/",
          "height": 911
        },
        "id": "Ap5Rcw8jBAa2",
        "outputId": "6c3e2a88-ff65-4455-e22d-1fd5aafea2cd"
      },
      "execution_count": 34,
      "outputs": [
        {
          "output_type": "display_data",
          "data": {
            "text/plain": [
              "<Figure size 1080x720 with 2 Axes>"
            ],
            "image/png": "[encoded data removed]"
          },
          "metadata": {
            "needs_background": "light"
          }
        }
      ]
    },
    {
      "cell_type": "markdown",
      "source": [
        "**7.2 classification report**"
      ],
      "metadata": {
        "id": "JeInyutB1-RD"
      }
    },
    {
      "cell_type": "code",
      "source": [
        "print(classification_report(y_pred,y_test))"
      ],
      "metadata": {
        "colab": {
          "base_uri": "https://localhost:8080/"
        },
        "id": "3naGYqzEOqUT",
        "outputId": "835584f8-1558-408c-cadb-1ed6942c5a97"
      },
      "execution_count": 35,
      "outputs": [
        {
          "output_type": "stream",
          "name": "stdout",
          "text": [
            "              precision    recall  f1-score   support\n",
            "\n",
            "           0       0.74      0.58      0.65       204\n",
            "           1       0.90      0.79      0.84      1533\n",
            "           2       0.75      0.61      0.68       306\n",
            "           3       0.92      0.85      0.88       343\n",
            "           4       0.77      0.76      0.76       630\n",
            "           5       0.36      0.61      0.45        41\n",
            "           6       0.86      0.85      0.86       113\n",
            "           7       0.16      0.64      0.25        11\n",
            "           8       0.57      0.78      0.66        55\n",
            "           9       0.03      0.33      0.05         3\n",
            "          10       0.20      0.67      0.31         3\n",
            "          11       0.23      0.58      0.33        24\n",
            "          12       0.08      0.38      0.14        26\n",
            "          13       0.00      0.00      0.00         0\n",
            "          14       0.07      0.62      0.12         8\n",
            "          15       0.00      0.00      0.00         0\n",
            "          16       0.00      0.00      0.00         0\n",
            "\n",
            "    accuracy                           0.75      3300\n",
            "   macro avg       0.39      0.53      0.41      3300\n",
            "weighted avg       0.82      0.75      0.78      3300\n",
            "\n"
          ]
        }
      ]
    },
    {
      "cell_type": "code",
      "source": [
        "#From we get 75% accuracy "
      ],
      "metadata": {
        "id": "igK-ol6YOxUH"
      },
      "execution_count": 36,
      "outputs": []
    }
  ]
}